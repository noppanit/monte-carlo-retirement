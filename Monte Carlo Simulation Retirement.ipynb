{
 "cells": [
  {
   "cell_type": "code",
   "execution_count": 9,
   "metadata": {},
   "outputs": [
    {
     "name": "stdout",
     "output_type": "stream",
     "text": [
      "The autoreload extension is already loaded. To reload it, use:\n",
      "  %reload_ext autoreload\n"
     ]
    }
   ],
   "source": [
    "import numpy as np\n",
    "import pandas as pd\n",
    "import matplotlib.pyplot as plt\n",
    "import uncertainties as unc\n",
    "import uncertainties.unumpy as unp\n",
    "import random\n",
    "\n",
    "from src import shiller\n",
    "from matplotlib import rcParams\n",
    "\n",
    "%load_ext autoreload\n",
    "%autoreload 2\n",
    "\n",
    "%matplotlib inline"
   ]
  },
  {
   "cell_type": "code",
   "execution_count": 10,
   "metadata": {},
   "outputs": [
    {
     "data": {
      "text/plain": [
       "1871.0         NaN\n",
       "1872.0    0.148148\n",
       "1873.0    0.113503\n",
       "1874.0   -0.025751\n",
       "1875.0    0.039648\n",
       "dtype: float64"
      ]
     },
     "execution_count": 10,
     "metadata": {},
     "output_type": "execute_result"
    }
   ],
   "source": [
    "shiller.stock_returns.head()"
   ]
  },
  {
   "cell_type": "code",
   "execution_count": 11,
   "metadata": {},
   "outputs": [
    {
     "data": {
      "text/plain": [
       "1871.0     NaN\n",
       "1872.0    0.72\n",
       "1873.0    0.58\n",
       "1874.0   -0.12\n",
       "1875.0    0.18\n",
       "dtype: float64"
      ]
     },
     "execution_count": 11,
     "metadata": {},
     "output_type": "execute_result"
    }
   ],
   "source": [
    "shiller.stock_increase.head()"
   ]
  },
  {
   "cell_type": "code",
   "execution_count": 12,
   "metadata": {},
   "outputs": [
    {
     "data": {
      "text/plain": [
       "1871.0         NaN\n",
       "1872.0    0.015041\n",
       "1873.0    0.022057\n",
       "1874.0   -0.046157\n",
       "1875.0   -0.074374\n",
       "Name: CPI, dtype: float64"
      ]
     },
     "execution_count": 12,
     "metadata": {},
     "output_type": "execute_result"
    }
   ],
   "source": [
    "shiller.inflation.head()"
   ]
  },
  {
   "cell_type": "code",
   "execution_count": 22,
   "metadata": {},
   "outputs": [],
   "source": [
    "from src import simulation\n",
    "\n",
    "# First, let's assume that Joyce needs $50k per year (before taxes) to live on.\n",
    "yearly_expense = 50000.00\n",
    "\n",
    "# Next, Joyce has saved half a million dollars for retirement.\n",
    "starting_assets = 500000.00\n",
    "\n",
    "# And Joyce invests half of her money in stocks and half in bonds.\n",
    "stock_fraction = 0.5\n",
    "\n",
    "# Joyce will retire at age 65.\n",
    "starting_age = 65\n",
    "\n",
    "# She lives in Iowa.\n",
    "state_abbrev = 'IA'\n",
    "\n",
    "# Joyce is a white female. \n",
    "demographic_group = 'white female'\n",
    "\n",
    "loop = 100\n",
    "\n",
    "histories = simulation.run_histories(starting_assets, yearly_expense, stock_fraction, starting_age,\n",
    "              state_abbrev, demographic_group, loop)"
   ]
  },
  {
   "cell_type": "code",
   "execution_count": 18,
   "metadata": {},
   "outputs": [
    {
     "data": {
      "text/plain": [
       "[array([500000.        , 481250.34246575,             nan]),\n",
       " array([500000.        , 445650.32258065, 403460.09106539, 381811.15387306,\n",
       "        363967.43627117, 314882.26785596, 274347.32054514, 238280.09365518,\n",
       "        204368.52219229, 152717.95399393,  97947.27027895,  41771.32164864,\n",
       "        -18974.68454083])]"
      ]
     },
     "execution_count": 18,
     "metadata": {},
     "output_type": "execute_result"
    }
   ],
   "source": [
    "histories[:2]"
   ]
  },
  {
   "cell_type": "code",
   "execution_count": 21,
   "metadata": {},
   "outputs": [
    {
     "ename": "NameError",
     "evalue": "name 'loop' is not defined",
     "output_type": "error",
     "traceback": [
      "\u001b[0;31m---------------------------------------------------------------------------\u001b[0m",
      "\u001b[0;31mNameError\u001b[0m                                 Traceback (most recent call last)",
      "\u001b[0;32m<ipython-input-21-c3e4b9b34f8a>\u001b[0m in \u001b[0;36m<module>\u001b[0;34m()\u001b[0m\n\u001b[1;32m      1\u001b[0m \u001b[0mfinal_assets\u001b[0m \u001b[0;34m=\u001b[0m \u001b[0;34m[\u001b[0m\u001b[0;34m]\u001b[0m\u001b[0;34m\u001b[0m\u001b[0m\n\u001b[0;32m----> 2\u001b[0;31m \u001b[0;32mfor\u001b[0m \u001b[0mi\u001b[0m \u001b[0;32min\u001b[0m \u001b[0mrange\u001b[0m\u001b[0;34m(\u001b[0m\u001b[0mloop\u001b[0m\u001b[0;34m)\u001b[0m\u001b[0;34m:\u001b[0m\u001b[0;34m\u001b[0m\u001b[0m\n\u001b[0m\u001b[1;32m      3\u001b[0m     \u001b[0mfinal_assets\u001b[0m\u001b[0;34m.\u001b[0m\u001b[0mappend\u001b[0m\u001b[0;34m(\u001b[0m\u001b[0mhistories\u001b[0m\u001b[0;34m[\u001b[0m\u001b[0mi\u001b[0m\u001b[0;34m]\u001b[0m\u001b[0;34m[\u001b[0m\u001b[0;34m-\u001b[0m\u001b[0;36m1\u001b[0m\u001b[0;34m]\u001b[0m\u001b[0;34m)\u001b[0m\u001b[0;34m\u001b[0m\u001b[0m\n\u001b[1;32m      4\u001b[0m \u001b[0;34m\u001b[0m\u001b[0m\n\u001b[1;32m      5\u001b[0m \u001b[0mfinal_assets\u001b[0m \u001b[0;34m=\u001b[0m \u001b[0mnp\u001b[0m\u001b[0;34m.\u001b[0m\u001b[0marray\u001b[0m\u001b[0;34m(\u001b[0m\u001b[0mfinal_assets\u001b[0m\u001b[0;34m)\u001b[0m\u001b[0;34m\u001b[0m\u001b[0m\n",
      "\u001b[0;31mNameError\u001b[0m: name 'loop' is not defined"
     ]
    }
   ],
   "source": [
    "final_assets = []\n",
    "for i in range(loop):\n",
    "    final_assets.append(histories[i][-1])\n",
    "\n",
    "final_assets = np.array(final_assets)\n",
    "\n",
    "run_out_of_money_hist = np.array(final_assets < 0.0, dtype=np.float64)\n",
    "run_out_of_money = unc.ufloat(run_out_of_money_hist.mean(),\n",
    "                              run_out_of_money_hist.std() / np.sqrt(loop))\n",
    "\n",
    "print(' Chance of running out of money is {:%}'.format(run_out_of_money))\n",
    "\n",
    "run_out_of_money"
   ]
  },
  {
   "cell_type": "code",
   "execution_count": 101,
   "metadata": {},
   "outputs": [],
   "source": [
    "rcParams['figure.figsize'] = [7.0, 3.5]\n",
    "\n",
    "# Plot of asset-over-lifetime histories\n",
    "plt.figure()\n",
    "\n",
    "final_ages = []\n",
    "final_assets = []\n",
    "for i in range(n_mc):\n",
    "    y = mc_histories[i] / 1e6\n",
    "    x = np.arange(starting_age, starting_age+y.size)\n",
    "    plt.plot(x, y, color='gray', linewidth=0.5)\n",
    "\n",
    "    final_assets.append(y[-1])\n",
    "    final_ages.append(x[-1])\n",
    "\n",
    "plt.plot(final_ages, final_assets, color='red', ls=':',\n",
    "         marker='.', markersize=1.5)\n",
    "\n",
    "plt.xlabel('Age')\n",
    "plt.ylabel('Remaining assets (million USD)')\n",
    "\n",
    "# plt.savefig('figs/histories.pdf')\n",
    "\n",
    "\n",
    "# Plot of age of death\n",
    "rcParams['figure.subplot.left'] = 0.15\n",
    "plt.figure()\n",
    "\n",
    "final_ages = np.array(final_ages)\n",
    "\n",
    "max_age = 110\n",
    "bins = np.linspace(int(starting_age)-0.5, max_age+0.5, max_age-starting_age+2)\n",
    "\n",
    "plt.hist(final_ages, bins=bins, normed=True)\n",
    "\n",
    "plt.xlabel('Age of Death')\n",
    "plt.ylabel('Probability')\n"
   ]
  },
  {
   "cell_type": "code",
   "execution_count": null,
   "metadata": {},
   "outputs": [],
   "source": []
  }
 ],
 "metadata": {
  "kernelspec": {
   "display_name": "Python 3",
   "language": "python",
   "name": "python3"
  },
  "language_info": {
   "codemirror_mode": {
    "name": "ipython",
    "version": 3
   },
   "file_extension": ".py",
   "mimetype": "text/x-python",
   "name": "python",
   "nbconvert_exporter": "python",
   "pygments_lexer": "ipython3",
   "version": "3.6.4"
  }
 },
 "nbformat": 4,
 "nbformat_minor": 2
}
